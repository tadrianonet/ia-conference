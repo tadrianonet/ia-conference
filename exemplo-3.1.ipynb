{
 "cells": [
  {
   "cell_type": "markdown",
   "metadata": {},
   "source": [
    "Básico de RAG - Carregando o  arquivo"
   ]
  },
  {
   "cell_type": "code",
   "execution_count": 1,
   "metadata": {},
   "outputs": [],
   "source": [
    "from langchain_community.document_loaders.pdf import PyPDFLoader\n",
    "from langchain_text_splitters import RecursiveCharacterTextSplitter\n",
    "from langchain_openai import OpenAIEmbeddings\n",
    "\n",
    "\n",
    "caminho_arquivo = \"caminho_do_seu.pdf\"\n",
    "\n",
    "loader = PyPDFLoader(caminho_arquivo)\n",
    "documentos = loader.load()\n",
    "\n"
   ]
  },
  {
   "cell_type": "markdown",
   "metadata": {},
   "source": [
    "Quebrando em chunks"
   ]
  },
  {
   "cell_type": "code",
   "execution_count": 2,
   "metadata": {},
   "outputs": [],
   "source": [
    "recur_split = RecursiveCharacterTextSplitter(\n",
    "    chunk_size=500,\n",
    "    chunk_overlap=50,\n",
    "    separators=[\"\\n\\n\", \"\\n\", \".\", \" \", \"\"]\n",
    ")\n",
    "\n",
    "documents = recur_split.split_documents(documentos)"
   ]
  },
  {
   "cell_type": "markdown",
   "metadata": {},
   "source": [
    "Converte os textos em vetores"
   ]
  },
  {
   "cell_type": "code",
   "execution_count": 3,
   "metadata": {},
   "outputs": [],
   "source": [
    "\n",
    "embeddings_model = OpenAIEmbeddings()\n",
    "\n",
    "from langchain_community.vectorstores.faiss import FAISS\n",
    "\n",
    "vectorstore = FAISS.from_documents(\n",
    "    documents=documents,\n",
    "    embedding=embeddings_model\n",
    ")\n",
    "retriever = vectorstore.as_retriever(search_type='mmr')"
   ]
  },
  {
   "cell_type": "markdown",
   "metadata": {},
   "source": [
    "Conversando com o arquivo"
   ]
  },
  {
   "cell_type": "code",
   "execution_count": 4,
   "metadata": {},
   "outputs": [
    {
     "data": {
      "text/plain": [
       "[Document(page_content='Fabrício\\t Carraro\\t nasceu\\t em\\t 1988\\t no\\t ABC\\t paulista.\\t Su a\\nformação\\t compreende\\t Engenharia\\t da\\t Computação\\t pela\\nUNICAMP\\te,\\tmais\\trecentemente,\\ta\\tPós\\tTech\\tde\\t Data\\tAnalysis \\t&\\nMachine\\t Learning \\t pela\\t FIAP.\\t Atuou\\t por\\t anos\\t na\\t área\\t de\\ndesenvolvimento\\tde\\tsoftware,\\ttendo\\tpassado\\tpor\\tempr esas\\tcomo\\nGriaule\\tBiometrics\\te\\tUOL\\tPagSeguro.\\nSua\\t paixão\\t pelo\\t estudo\\t de\\t línguas\\t estrangeiras\\t o\\t le vou\\t a\\nmudar-se\\t para\\t a\\t Alemanha\\t e,\\t posteriormente,\\t para\\t a\\t Espanha,', metadata={'source': 'inteligencia-artificial.pdf', 'page': 5}),\n",
       " Document(page_content='Reprodução:\\tReddit\\n7.3\\tFAKE\\tNEWS \\t185\\nE-book gerado especialmente para Thiago SIlva - profthiago.adriano@fiap.com.br', metadata={'source': 'inteligencia-artificial.pdf', 'page': 200}),\n",
       " Document(page_content='Este livro possui a curadoria da Casa do Código e foi estrutur ado e\\ncriado com todo o carinho para que você possa aprender algo no vo e\\nacrescentar conhecimentos ao seu portfólio e à sua carreira .\\nA Casa do Código é a editora da Alura, escola online de tecnolo gia\\nque nasceu da vontade de criar uma plataforma de ensino com o\\nobjetivo de incentivar a transformação pessoal e profissio nal através\\nda tecnologia.\\nO ecossistema da Alura constrói uma verdadeira comunidade', metadata={'source': 'inteligencia-artificial.pdf', 'page': 3}),\n",
       " Document(page_content='Figura\\t7.4:\\tDo\\tlado\\tesquerdo,\\tfoto\\tdo\\tFabrício\\tCarraro\\thoje\\t em\\tdia;\\tdo\\tlado\\tdireito,\\tfoto\\nalterada\\tpelo\\taplicativo\\tFaceApp\\tmostrando\\tuma\\tversão\\tde le\\tidosa\\nO\\tmesmo\\tconceito\\tfoi\\taplicado\\tpara\\ta\\tclonagem\\tde\\tvo z,\\tem\\nque\\tprompts \\tde\\ttexto\\tpuderam\\tser\\tusados\\tpara\\tgerar\\tvídeos\\tmuit o\\nengraçados\\t de\\t conversas\\t hipotéticas\\t entre\\t os\\t ex-pre sidentes\\t dos\\nEstados\\tUnidos\\tBarack\\tObama\\te\\tDonald\\tTrump\\te,\\tno\\tBr asil,\\tde\\npersonalidades\\t da\\t mídia\\t como\\t o\\t Sílvio\\t Santos\\t faland o', metadata={'source': 'inteligencia-artificial.pdf', 'page': 202})]"
      ]
     },
     "execution_count": 4,
     "metadata": {},
     "output_type": "execute_result"
    }
   ],
   "source": [
    "retriever.invoke(\"Quem e Fabricio Carraro\")"
   ]
  }
 ],
 "metadata": {
  "kernelspec": {
   "display_name": "env",
   "language": "python",
   "name": "python3"
  },
  "language_info": {
   "codemirror_mode": {
    "name": "ipython",
    "version": 3
   },
   "file_extension": ".py",
   "mimetype": "text/x-python",
   "name": "python",
   "nbconvert_exporter": "python",
   "pygments_lexer": "ipython3",
   "version": "3.11.8"
  }
 },
 "nbformat": 4,
 "nbformat_minor": 2
}
