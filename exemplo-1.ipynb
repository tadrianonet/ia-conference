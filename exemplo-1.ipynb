{
 "cells": [
  {
   "cell_type": "markdown",
   "metadata": {},
   "source": [
    "Chamada com OPENAI https://platform.openai.com/api-keys "
   ]
  },
  {
   "cell_type": "code",
   "execution_count": 1,
   "metadata": {},
   "outputs": [
    {
     "name": "stdout",
     "output_type": "stream",
     "text": [
      "\n",
      "\n",
      "Renda fixa é uma modalidade de investimento em que o investidor empresta dinheiro para uma instituição financeira, empresa ou governo e, em troca, recebe uma remuneração em forma de juros e/ou correção monetária. É considerada uma opção mais conservadora e com menor risco em comparação a outras modalidades de investimento, como a renda variável.\n",
      "\n",
      "Existem diversos tipos de investimentos de renda fixa, como títulos públicos, CDBs, LCIs, LCAs, debêntures, entre outros. Cada um possui suas próprias características e níveis de risco e retorno.\n",
      "\n",
      "Os investimentos de renda fixa são indicados para quem busca segurança e estabilidade em seus investimentos, já que, geralmente, possuem uma rentabilidade previsível e garantida. Porém, é importante lembrar que, apesar de terem menor risco, ainda assim existem riscos envolvidos e é necessário avaliar cuidadosamente as opções de investimento antes de tomar uma decisão. "
     ]
    }
   ],
   "source": [
    "from langchain_openai import OpenAI\n",
    "\n",
    "llm = OpenAI(model='gpt-3.5-turbo-instruct')\n",
    "\n",
    "pergunta = 'O que e Renda Fixa'\n",
    "for trecho in llm.stream(pergunta):\n",
    "    print(trecho, end='')"
   ]
  },
  {
   "cell_type": "markdown",
   "metadata": {},
   "source": [
    "Fluxo 2"
   ]
  },
  {
   "cell_type": "code",
   "execution_count": 3,
   "metadata": {},
   "outputs": [
    {
     "name": "stdout",
     "output_type": "stream",
     "text": [
      "\n",
      "\n",
      "1. Tesouro Direto: O Tesouro Direto é um programa do governo federal que permite a compra de títulos públicos, considerados um dos investimentos mais seguros do mercado. Com R$10.000, é possível adquirir títulos com diferentes prazos e rentabilidades, como o Tesouro Selic, que acompanha a taxa básica de juros, ou o Tesouro IPCA+, que protege o investidor da inflação.\n",
      "\n",
      "2. Fundos de investimento: Os fundos de investimento são uma opção para quem busca diversificação em seus investimentos. Com R$10.000, é possível encontrar fundos de diferentes tipos, como renda fixa, multimercado e ações. É importante avaliar o histórico de rentabilidade e a taxa de administração do fundo antes de investir.\n",
      "\n",
      "3. Certificado de Depósito Bancário (CDB): Os CDBs são títulos emitidos por bancos para captar recursos. Com R$10.000, é possível encontrar CDBs com boas taxas de rentabilidade, principalmente em bancos médios e de menor porte. É importante ficar atento ao pr\n"
     ]
    }
   ],
   "source": [
    "import os\n",
    "from langchain_openai import OpenAI\n",
    "from dotenv import load_dotenv\n",
    "\n",
    "load_dotenv()\n",
    "\n",
    "def generate_investment_flow():\n",
    "    llm = OpenAI(temperature=0.6, api_key=os.getenv(\"OPENAI_API_KEY\"))\n",
    "    \n",
    "    prompt = \"Olá, você tem R$10.000 para investir. Quais são as melhores opções de investimento atualmente? Me forneça 5 opções detalhadas.\"\n",
    "    \n",
    "    investments = llm(prompt)\n",
    "    \n",
    "    return investments\n",
    "\n",
    "if __name__ == \"__main__\":\n",
    "    print(generate_investment_flow())"
   ]
  },
  {
   "cell_type": "markdown",
   "metadata": {},
   "source": [
    "Exemplo com prompt"
   ]
  },
  {
   "cell_type": "code",
   "execution_count": 4,
   "metadata": {},
   "outputs": [
    {
     "name": "stdout",
     "output_type": "stream",
     "text": [
      "\n",
      "\n",
      "Existem diversas opções de investimento atualmente, mas é importante lembrar que a escolha do investimento ideal deve levar em consideração o perfil de cada investidor, seus objetivos financeiros e o prazo de investimento.\n",
      "\n",
      "1. Tesouro Direto: O Tesouro Direto é um programa do governo federal que oferece títulos públicos para investimento. É uma opção segura e de baixo risco, com rentabilidade atrelada à taxa Selic ou à inflação. Com R$10000, é possível investir em títulos como o Tesouro Selic ou Tesouro IPCA+.\n",
      "\n",
      "2. CDB: O Certificado de Depósito Bancário é uma opção de renda fixa emitida pelos bancos. Com R$10000, é possível encontrar CDBs com rentabilidades atrativas, principalmente em bancos menores. É importante verificar a solidez e a reputação do banco antes de investir.\n",
      "\n",
      "3. Fundos de Investimento: Existem diversos tipos de fundos de investimento, como fundos de renda fixa, fundos multimercado e fundos de ações. Com R$10000, é\n"
     ]
    }
   ],
   "source": [
    "import os\n",
    "from langchain.llms import OpenAI\n",
    "from dotenv import load_dotenv\n",
    "from langchain.prompts import PromptTemplate\n",
    "\n",
    "load_dotenv()\n",
    "\n",
    "def generate_investment_flow():\n",
    "    llm = OpenAI(temperature=0.6, api_key=os.getenv(\"OPENAI_API_KEY\"))\n",
    "    \n",
    "    template = PromptTemplate(input_variables=[\"name\", \"amount\"], \n",
    "                              template=\"Olá {name}, você tem R${amount} para investir. Quais são as melhores opções de investimento atualmente? Me forneça algumas opções detalhadas.\")\n",
    "    \n",
    "    prompt = template.format(name=\"Thiago S Adriano\", amount=\"10000\")\n",
    "    \n",
    "    investments = llm(prompt)\n",
    "    \n",
    "    return investments\n",
    "\n",
    "if __name__ == \"__main__\":\n",
    "    print(generate_investment_flow())\n"
   ]
  },
  {
   "cell_type": "markdown",
   "metadata": {},
   "source": [
    "Fluxo para o chat:\n",
    "- `SystemMessage`: Comportamento do modelo\n",
    "- `HumanMessage`: Mensagem do usuário"
   ]
  },
  {
   "cell_type": "code",
   "execution_count": 5,
   "metadata": {},
   "outputs": [
    {
     "name": "stdout",
     "output_type": "stream",
     "text": [
      "Investir R$10.000 de forma inteligente depende de vários fatores, incluindo seus objetivos financeiros, sua tolerância ao risco e o prazo em que pretende utilizar o dinheiro investido. Aqui estão algumas opções que você pode considerar, mas lembre-se, é importante fazer sua própria pesquisa ou consultar um consultor financeiro pessoal antes de tomar qualquer decisão de investimento:\n",
      "\n",
      "1. **Fundo de Emergência**: Antes de investir, certifique-se de que você tem um fundo de emergência suficiente. Geralmente, é recomendado ter de 3 a 6 meses de despesas cobertas.\n",
      "\n",
      "2. **Renda Fixa**: \n",
      "   - **Tesouro Direto**: Investir em títulos públicos pode ser uma boa opção para quem busca segurança. Existem várias opções, como Tesouro Selic (para liquidez diária), Tesouro IPCA (proteção contra a inflação) e Tesouro Prefixado (com rentabilidade definida no momento da compra).\n",
      "   - **CDBs, LCIs, LCAs**: Certificados de Depósito Bancário e Letras de Crédito são também boas alternativas de renda fixa, muitos oferecendo garantia do FGC (Fundo Garantidor de Créditos).\n",
      "\n",
      "3. **Renda Variável**:\n",
      "   - **Ações**: Considerando uma parcela do seu dinheiro em ações pode ser interessante para buscar retornos maiores. É recomendável estudar as empresas ou contar com a ajuda de um especialista para escolher ações com bom potencial de valorização e dividendos.\n",
      "   - **Fundos de Investimento**: Fundos podem ser uma boa maneira de diversificar investimentos, com gestão profissional dos recursos. Existem fundos de ações, fundos multimercado, entre outros.\n",
      "   - **ETFs**: Os Fundos de Índice são uma forma eficiente de diversificar investimentos com baixo custo e são negociados como ações na bolsa.\n",
      "\n",
      "4. **Criptomoedas**: Embora seja uma classe de ativos de alto risco, alocar uma pequena porção do portfólio em criptomoedas pode ser uma opção para diversificação e potencial de alto retorno.\n",
      "\n",
      "5. **Educação e Desenvolvimento Pessoal**: Investir em cursos e capacitação pode melhorar suas habilidades e potencial de ganhos futuros.\n",
      "\n",
      "6. **Previdência Privada**: Se você está pensando em longo prazo, como a aposentadoria, considerar a previdência privada pode ser uma boa escolha.\n",
      "\n",
      "É crucial diversificar seus investimentos para reduzir riscos e maximizar retornos. Avalie seu perfil de investidor e considere estes pontos ao planejar seus investimentos.\n"
     ]
    }
   ],
   "source": [
    "from langchain_openai import ChatOpenAI\n",
    "from langchain_core.messages import HumanMessage, SystemMessage\n",
    "\n",
    "chat = ChatOpenAI(model='gpt-4-turbo')\n",
    "\n",
    "\n",
    "mensagens = [\n",
    "    SystemMessage(content='Você é um consultor financeiro'),\n",
    "    HumanMessage(content='Eu tenho R$10.000 para investir, o que voce me recomendaria?')\n",
    "]\n",
    "resposta = chat.invoke(mensagens)\n",
    "\n",
    "print(resposta.content)"
   ]
  },
  {
   "cell_type": "code",
   "execution_count": 6,
   "metadata": {},
   "outputs": [
    {
     "name": "stdout",
     "output_type": "stream",
     "text": [
      "Como assistente de IA, não tenho acesso a informações pessoais ou financeiras específicas, incluindo detalhes sobre seus investimentos ou saldo bancário. Para saber quanto você tem para investir, você precisará verificar suas contas financeiras pessoalmente ou consultar seu banco ou consultor financeiro. Se precisar de ajuda para estabelecer um plano de investimento ou entender diferentes opções de investimento, posso oferecer informações gerais e orientações.\n"
     ]
    }
   ],
   "source": [
    "resposta = chat.invoke(\"Quanto eu tenho para investir?\")\n",
    "\n",
    "print(resposta.content)"
   ]
  },
  {
   "cell_type": "code",
   "execution_count": 9,
   "metadata": {},
   "outputs": [
    {
     "name": "stdout",
     "output_type": "stream",
     "text": [
      "\n",
      "\n",
      "\u001b[1m> Entering new ConversationChain chain...\u001b[0m\n",
      "Prompt after formatting:\n",
      "\u001b[32;1m\u001b[1;3mThe following is a friendly conversation between a human and an AI. The AI is talkative and provides lots of specific details from its context. If the AI does not know the answer to a question, it truthfully says it does not know.\n",
      "\n",
      "Current conversation:\n",
      "\n",
      "Human: [SystemMessage(content='Você é um consultor financeiro'), HumanMessage(content='Eu tenho R$10.000 para investir, o que voce me recomendaria?')]\n",
      "AI:\u001b[0m\n",
      "\n",
      "\u001b[1m> Finished chain.\u001b[0m\n"
     ]
    }
   ],
   "source": [
    "from langchain_openai.chat_models import ChatOpenAI\n",
    "from langchain.chains.conversation.base import ConversationChain\n",
    "from langchain.memory import ConversationBufferMemory\n",
    "\n",
    "chat = ChatOpenAI()\n",
    "memory = ConversationBufferMemory()\n",
    "conversation = ConversationChain(\n",
    "    llm=chat,\n",
    "    memory=memory,\n",
    "    verbose=True\n",
    ")\n",
    "\n",
    "\n",
    "mensagens = [\n",
    "    SystemMessage(content='Você é um consultor financeiro'),\n",
    "    HumanMessage(content='Eu tenho R$10.000 para investir, o que voce me recomendaria?')\n",
    "]\n",
    "resposta = conversation.invoke(input=mensagens)\n"
   ]
  },
  {
   "cell_type": "code",
   "execution_count": 10,
   "metadata": {},
   "outputs": [
    {
     "name": "stdout",
     "output_type": "stream",
     "text": [
      "\n",
      "\n",
      "\u001b[1m> Entering new ConversationChain chain...\u001b[0m\n",
      "Prompt after formatting:\n",
      "\u001b[32;1m\u001b[1;3mThe following is a friendly conversation between a human and an AI. The AI is talkative and provides lots of specific details from its context. If the AI does not know the answer to a question, it truthfully says it does not know.\n",
      "\n",
      "Current conversation:\n",
      "Human: [{'content': 'Você é um consultor financeiro', 'additional_kwargs': {}, 'response_metadata': {}, 'type': 'system', 'name': None, 'id': None}, {'content': 'Eu tenho R$10.000 para investir, o que voce me recomendaria?', 'additional_kwargs': {}, 'response_metadata': {}, 'type': 'human', 'name': None, 'id': None, 'example': False}]\n",
      "AI: Olá! Sim, sou um consultor financeiro virtual. Com R$10.000 para investir, existem várias opções que podemos considerar. Dependendo do seu perfil de investidor, podemos analisar opções como investir em ações de empresas sólidas, fundos de investimento diversificados, títulos do Tesouro Direto, ou até mesmo em criptomoedas. Qual é o seu objetivo de investimento? Podemos explorar juntos as melhores opções para você.\n",
      "Human: Quanto eu tenho para investir?\n",
      "AI:\u001b[0m\n",
      "\n",
      "\u001b[1m> Finished chain.\u001b[0m\n",
      "Desculpe, mas não tenho essa informação. Você mencionou que tem R$10.000 para investir. Como posso ajudar mais?\n"
     ]
    }
   ],
   "source": [
    "resposta = conversation.predict(input=\"Quanto eu tenho para investir?\")\n",
    "\n",
    "print(resposta)"
   ]
  }
 ],
 "metadata": {
  "kernelspec": {
   "display_name": "env",
   "language": "python",
   "name": "python3"
  },
  "language_info": {
   "codemirror_mode": {
    "name": "ipython",
    "version": 3
   },
   "file_extension": ".py",
   "mimetype": "text/x-python",
   "name": "python",
   "nbconvert_exporter": "python",
   "pygments_lexer": "ipython3",
   "version": "3.11.8"
  }
 },
 "nbformat": 4,
 "nbformat_minor": 2
}
